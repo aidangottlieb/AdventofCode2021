{
 "cells": [
  {
   "cell_type": "code",
   "execution_count": 10,
   "metadata": {},
   "outputs": [],
   "source": [
    "import pandas as pd\n",
    "df = pd.read_csv(\"Day1Csv.csv\", header=None)\n",
    "arr = df[0]"
   ]
  },
  {
   "cell_type": "code",
   "execution_count": 11,
   "metadata": {},
   "outputs": [
    {
     "name": "stdout",
     "output_type": "stream",
     "text": [
      "Answer: 1342\n"
     ]
    }
   ],
   "source": [
    "# Part A\n",
    "print(\"Answer:\", sum([1 for i in range(1, len(arr)) if arr[i] > arr[i - 1] ]))"
   ]
  },
  {
   "cell_type": "code",
   "execution_count": 12,
   "metadata": {},
   "outputs": [
    {
     "name": "stdout",
     "output_type": "stream",
     "text": [
      "Answer: 1378\n"
     ]
    }
   ],
   "source": [
    "# Part B\n",
    "# the slide window would go from A + B + C to B + C + D so increase is just comparing D > A\n",
    "print(\"Answer:\", sum([1 for i in range(3, len(arr)) if arr[i] > arr[i - 3] ]))"
   ]
  }
 ],
 "metadata": {
  "kernelspec": {
   "display_name": "Python 3",
   "language": "python",
   "name": "python3"
  },
  "language_info": {
   "codemirror_mode": {
    "name": "ipython",
    "version": 3
   },
   "file_extension": ".py",
   "mimetype": "text/x-python",
   "name": "python",
   "nbconvert_exporter": "python",
   "pygments_lexer": "ipython3",
   "version": "3.8.2"
  }
 },
 "nbformat": 4,
 "nbformat_minor": 4
}
